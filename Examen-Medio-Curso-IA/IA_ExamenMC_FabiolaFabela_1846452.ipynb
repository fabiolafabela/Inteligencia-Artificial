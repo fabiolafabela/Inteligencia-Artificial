{
  "nbformat": 4,
  "nbformat_minor": 0,
  "metadata": {
    "colab": {
      "name": "IA_ExamenMC_FabiolaFabela_1846452.ipynb",
      "provenance": []
    },
    "kernelspec": {
      "name": "python3",
      "display_name": "Python 3"
    },
    "language_info": {
      "name": "python"
    }
  },
  "cells": [
    {
      "cell_type": "markdown",
      "metadata": {
        "id": "NUS-nmGMGQOq"
      },
      "source": [
        "**Examen de Medio Curso IA**\n",
        "\n",
        "\n",
        "*   Fabiola Alejandra Fabela Alvarado\n",
        "*   Matricula: 1846452\n",
        "\n"
      ]
    },
    {
      "cell_type": "markdown",
      "metadata": {
        "id": "wEjulJGHGc_R"
      },
      "source": [
        "*Ejercicio 1*\n",
        "\n",
        "\n",
        "1.   Desarrollar un programa que remueva los números pares de la lista:\n",
        "   ex_lista = [10, 15, 17, 21, 22, 34, 37, 40, 45, 52, 66, 68, 81, 84, 91, 94, 102, 105, 109] e imprima la lista después de remover los números pares. \n",
        "\n"
      ]
    },
    {
      "cell_type": "code",
      "metadata": {
        "colab": {
          "base_uri": "https://localhost:8080/"
        },
        "id": "bo6Y3VKJGquR",
        "outputId": "2dd79ab2-7a98-44c2-a6c8-a8220ec0b92e"
      },
      "source": [
        "ex_lista = [10, 15, 17, 21, 22, 34, 37, 40, 45, 52, 66, 68, 81, 84, 91, 94, 102, 105, 109]\n",
        "for i in ex_lista:\n",
        "   if i %2!=0:\n",
        "    print(i)\n",
        "  \n"
      ],
      "execution_count": 19,
      "outputs": [
        {
          "output_type": "stream",
          "name": "stdout",
          "text": [
            "15\n",
            "17\n",
            "21\n",
            "37\n",
            "45\n",
            "81\n",
            "91\n",
            "105\n",
            "109\n"
          ]
        }
      ]
    },
    {
      "cell_type": "markdown",
      "metadata": {
        "id": "t-nZ5VfqI4ys"
      },
      "source": [
        "*Ejercicio 2*\n",
        "\n",
        "\n",
        "2.   Desarrollar un programa que pregunte al usuario por sus 5 películas favoritas (dato tipo string), empezando por la mas favorita y terminando en la posición 5 con la menos favorita, almacene estos datos en una lista e itere sobre la lista generada para imprimir 5 oraciones (1 con cada título de película) que digan: \"La película [TÍTULO DE PELÍCULA] está en la posición [índice+1] de mi top 5\". \n",
        "\n"
      ]
    },
    {
      "cell_type": "code",
      "metadata": {
        "colab": {
          "base_uri": "https://localhost:8080/"
        },
        "id": "ZNtnP7kyJyQT",
        "outputId": "719e081d-a7a1-4dc9-9447-2b9f7ae4fb28"
      },
      "source": [
        "print(\"¿Cuáles son sus 5 películas favoritas? Empezando por su favorita y terminando con la menos favorita\\n\")\n",
        "pel1= input(\"1. \") # Lo que se ingrese como input, la función lo convierte en string\n",
        "pel2= input(\"2. \")\n",
        "pel3= input(\"3. \")\n",
        "pel4= input(\"4. \")\n",
        "pel5= input(\"5. \")\n",
        "peliculas = [pel1,pel2,pel3,pel4,pel5]\n",
        "i = 1\n",
        "for i in range (0,5):\n",
        " print(f\"La pelicula \", peliculas[i], \" está en la posición\", i+1, \"de mi top 5.\") "
      ],
      "execution_count": 45,
      "outputs": [
        {
          "output_type": "stream",
          "name": "stdout",
          "text": [
            "¿Cuáles son sus 5 películas favoritas? Empezando por su favorita y terminando con la menos favorita\n",
            "\n",
            "1. The proposal\n",
            "2. Mean girls\n",
            "3. The notebook\n",
            "4. Spiderman Far From Home\n",
            "5. Minions\n",
            "La pelicula  The proposal  está en la posición 1 de mi top 5.\n",
            "La pelicula  Mean girls  está en la posición 2 de mi top 5.\n",
            "La pelicula  The notebook  está en la posición 3 de mi top 5.\n",
            "La pelicula  Spiderman Far From Home  está en la posición 4 de mi top 5.\n",
            "La pelicula  Minions  está en la posición 5 de mi top 5.\n"
          ]
        }
      ]
    }
  ]
}