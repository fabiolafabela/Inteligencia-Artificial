{
  "nbformat": 4,
  "nbformat_minor": 0,
  "metadata": {
    "colab": {
      "name": "Actividad 1.ipynb",
      "provenance": [],
      "authorship_tag": "ABX9TyMTF/Ichq6del5tSrI5O/c9",
      "include_colab_link": true
    },
    "kernelspec": {
      "name": "python3",
      "display_name": "Python 3"
    },
    "language_info": {
      "name": "python"
    }
  },
  "cells": [
    {
      "cell_type": "markdown",
      "metadata": {
        "id": "view-in-github",
        "colab_type": "text"
      },
      "source": [
        "<a href=\"https://colab.research.google.com/github/fabiolafabela/Inteligencia-Artificial/blob/main/IA_Actividad2_FabiolaFabela_1846452.ipynb\" target=\"_parent\"><img src=\"https://colab.research.google.com/assets/colab-badge.svg\" alt=\"Open In Colab\"/></a>"
      ]
    },
    {
      "cell_type": "code",
      "metadata": {
        "colab": {
          "base_uri": "https://localhost:8080/",
          "height": 52
        },
        "id": "Xpr7EWRkmydP",
        "outputId": "6af78318-b0ac-4a7b-8ec2-090175f27e0f"
      },
      "source": [
        "\"\"\" \n",
        "Actividad 2: Ejercicios Introducción Python\n",
        "Fabiola Alejandra Fabela Alvarado 1846452\n",
        "Jueves N4 Inteligencia Artificial\n",
        "\"\"\""
      ],
      "execution_count": null,
      "outputs": [
        {
          "output_type": "execute_result",
          "data": {
            "application/vnd.google.colaboratory.intrinsic+json": {
              "type": "string"
            },
            "text/plain": [
              "' \\nActividad 2: Ejercicios Introducción Python\\nFabiola Alejandra Fabela Alvarado 1846452\\nJueves N4 Inteligencia Artificial\\n'"
            ]
          },
          "metadata": {},
          "execution_count": 1
        }
      ]
    },
    {
      "cell_type": "code",
      "metadata": {
        "colab": {
          "base_uri": "https://localhost:8080/"
        },
        "id": "3giLNu6wntKD",
        "outputId": "82344d2f-3691-410d-ef24-1c36eec6c6c6"
      },
      "source": [
        "\"\"\" EJERCICIO 1  \"\"\"\n",
        "print(\" Escriba en los siguientes campos la información solicitada\")\n",
        "nombre = input(\"Nombre: \") # se utiliza input para que el usuario pueda ingresar la información y guardarlo en una variable\n",
        "edad =input(\"Edad: \")\n",
        "frase = input(\"Frase favorita:\")\n",
        "autor = input(\"Autor de la frase:\")\n",
        "print(nombre +\" de \" + edad + \" años.Su frase favorita es \"  + frase + \" dicha por \" + autor) # se hace la concatenación, suma para unir variables e imprimirlas, \n"
      ],
      "execution_count": 41,
      "outputs": [
        {
          "output_type": "stream",
          "name": "stdout",
          "text": [
            " Escriba en los siguientes campos la información solicitada\n",
            "Nombre: Fabiola Fabela\n",
            "Edad: 19\n",
            "Frase favorita:Hagan Lío\n",
            "Autor de la frase:Jorge Bergoglio\n",
            "Fabiola Fabela de 19 años.Su frase favorita es Hagan Lío dicha por Jorge Bergoglio\n"
          ]
        }
      ]
    },
    {
      "cell_type": "markdown",
      "metadata": {
        "id": "p77oo3JK3D6l"
      },
      "source": [
        ""
      ]
    },
    {
      "cell_type": "code",
      "metadata": {
        "colab": {
          "base_uri": "https://localhost:8080/"
        },
        "id": "Gq7Sil-_4yGl",
        "outputId": "b929fb2e-3d14-4a92-fa3b-7c21a61087af"
      },
      "source": [
        "\"\"\" EJERCICIO 2 \"\"\"\n",
        "print(\"Escriba en los siguientes campos 2 números enteros\")\n",
        "num1 = int (input(\"Número 1: \")) #se especifica el tipo de dato antes del input, en este caso, entero/int \n",
        "num2 = int (input(\"Número 2: \"))\n",
        "sumaint = num1 + num2 # se utilizan operadores aritmeticos para obtener resultados y cada operación se guarda en una variable para imprimirla más sencillo\n",
        "restaint = num1 - num2\n",
        "mulint= num1 * num2\n",
        "divint = num1 / num2\n",
        "print(\" La suma de estos números es \", sumaint) #no se puede aplicar concatenación (solo para str) se debe agregar \",\" para agregar la variable int/float\n",
        "print(\" La resta de estos números es \", restaint)\n",
        "print(\" La multiplicación de estos números es \", mulint)\n",
        "print(\" La división de estos números es \" , divint)\n",
        "print(\" \\nEscriba en los siguientes campos 2 números flotantes (decimales)\") #se usa \\n para salto de linea\n",
        "num3 = float (input(\"Número 1: \")) #se especifica el tipo de dato antes del input, en este caso, float \n",
        "num4 = float (input(\"Número 2: \"))\n",
        "sumaflo = num3 + num4\n",
        "restaflo = num3 - num4\n",
        "mulflo= num3 * num4\n",
        "divflo = num3 / num4\n",
        "print(\" La suma de estos números es \", sumaflo)\n",
        "print(\" La resta de estos números es \", restaflo)\n",
        "print(\" La multiplicación de estos números es \", mulflo)\n",
        "print(\" La división de estos números es \" , divflo)"
      ],
      "execution_count": 42,
      "outputs": [
        {
          "output_type": "stream",
          "name": "stdout",
          "text": [
            "Escriba en los siguientes campos 2 números enteros\n",
            "Número 1: 5\n",
            "Número 2: 1\n",
            " La suma de estos números es  6\n",
            " La resta de estos números es  4\n",
            " La multiplicación de estos números es  5\n",
            " La división de estos números es  5.0\n",
            " \n",
            "Escriba en los siguientes campos 2 números flotantes (decimales)\n",
            "Número 1: 0.5\n",
            "Número 2: 0.5\n",
            " La suma de estos números es  1.0\n",
            " La resta de estos números es  0.0\n",
            " La multiplicación de estos números es  0.25\n",
            " La división de estos números es  1.0\n"
          ]
        }
      ]
    },
    {
      "cell_type": "code",
      "metadata": {
        "colab": {
          "base_uri": "https://localhost:8080/"
        },
        "id": "8-kVo7EeB4tv",
        "outputId": "e22c68ce-f1fd-4206-ad49-51b37e484a7b"
      },
      "source": [
        "\" EJERCICIO 3 \"\n",
        "\"AND\"\n",
        "bool_uno = (2 <= 2) and \"Fabiola\" == \"Fabela\" # se comparan dos expresiones, 2 <= 2 es verdadero y \"Fabiola\" == \"Fabela\" es falso, por ende FALSE\n",
        "print(bool_uno)\n",
        "bool_dos = (55+89) == (12**2) and 4 > 1 # se comparan dos expresiones, 144 == 144 es verdadero y 4 > 1 es verdader, por ende TRUE\n",
        "print(bool_dos)\n",
        "\n",
        "\"OR\"\n",
        "bool_tres = (7+1 == 2**3) or (9 != 3**2)  # se comparan dos expresiones, 8 == 8 es verdadero y 9!= 3**2 es falso, por ende TRUE\n",
        "print(bool_tres)\n",
        "bool_cuatro = (178>=789) or (20+16 != 12*3) # se comparan dos expresiones,178>=789 es falso y 36 != 36 es falso, por ende FALSE\n",
        "print(bool_cuatro)\n",
        "\n",
        "\"NOT\"\n",
        "bool_cinco= not 5**4 < 4**5 # se comparan dos expresiones,625 < 1024 es verdadero, por ende FALSE\n",
        "print(bool_cinco)\n",
        "bool_seis= not 50-10 <= 90-50  # se comparan dos expresiones,40 <= 40 es verdadero, por ende FALSE\n",
        "print(bool_cinco)\n",
        "print (bool_seis)"
      ],
      "execution_count": 45,
      "outputs": [
        {
          "output_type": "stream",
          "name": "stdout",
          "text": [
            "False\n",
            "True\n",
            "True\n",
            "False\n",
            "False\n",
            "False\n",
            "False\n"
          ]
        }
      ]
    },
    {
      "cell_type": "markdown",
      "metadata": {
        "id": "bhUTWuff-_xD"
      },
      "source": [
        ""
      ]
    }
  ]
}