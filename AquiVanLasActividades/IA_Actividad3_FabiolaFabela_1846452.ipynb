{
  "nbformat": 4,
  "nbformat_minor": 0,
  "metadata": {
    "colab": {
      "name": "Actividad 3.ipynb",
      "provenance": [],
      "collapsed_sections": []
    },
    "kernelspec": {
      "name": "python3",
      "display_name": "Python 3"
    },
    "language_info": {
      "name": "python"
    }
  },
  "cells": [
    {
      "cell_type": "markdown",
      "metadata": {
        "id": "CGf_jjLtKPIr"
      },
      "source": [
        "**Actividad 3: Ejercicios Introducción Python 2da parte**\n",
        "- Fabiola Alejandra Fabela Alvarado 1846452\n",
        "- Jueves N4 Inteligencia Artificial\n",
        "\n",
        "\n"
      ]
    },
    {
      "cell_type": "markdown",
      "metadata": {
        "id": "bkuCf0MGK3qb"
      },
      "source": [
        "\n",
        "*Ejercicio 1*\n",
        "\n",
        "1.  Piensa en 7 comidas diferente que te gusten. Implementa un programa que \n",
        "pregunte por las 7 comidas, las almacene en una lista y que posteriermente \n",
        "imprima cada una de ellas utilizando uno de los ciclos comentados en clase. \n"
      ]
    },
    {
      "cell_type": "code",
      "metadata": {
        "colab": {
          "base_uri": "https://localhost:8080/"
        },
        "id": "GWMYSQ9uNGIy",
        "outputId": "cda3c5db-1a82-46fe-96b8-8966ccddba96"
      },
      "source": [
        "comida= input(\"¿Cuáles son tus siete comidas favoritas?\\n\") #El usuario ingresa sus comidas favoritas con la funcion input\n",
        "coma= ',' # declarar la coma para que lea la separación\n",
        "lista = comida.split(coma) #separar las respuestas cada que haya una coma\n",
        "for comida in lista: \n",
        " print (comida)"
      ],
      "execution_count": null,
      "outputs": [
        {
          "output_type": "stream",
          "name": "stdout",
          "text": [
            "¿Cuáles son tus siete comidas favoritas?\n",
            "Tenders,Pizza,Tostadas,Hamburguesas,Carne Asada,Campechanas,Tacos\n",
            "Tenders\n",
            "Pizza\n",
            "Tostadas\n",
            "Hamburguesas\n",
            "Carne Asada\n",
            "Campechanas\n",
            "Tacos\n"
          ]
        }
      ]
    },
    {
      "cell_type": "markdown",
      "metadata": {
        "id": "Ioio2fHPQOko"
      },
      "source": [
        "\n",
        "2.   Modifica el ejercicio 1.1 para que imprima cada una de las comidas favoritas junto con una oracición inicial: \"Una de mis comidas favoritas es [comida1]\". \n",
        "\n"
      ]
    },
    {
      "cell_type": "code",
      "metadata": {
        "colab": {
          "base_uri": "https://localhost:8080/"
        },
        "id": "mhhR1X1WQUvP",
        "outputId": "014c0b1a-e1f9-4466-dac1-ca9c7118b713"
      },
      "source": [
        "comida= input(\"¿Cuáles son tus siete comidas favoritas?\\n\")\n",
        "coma= ','\n",
        "lista = comida.split(coma)\n",
        "for comida in lista:\n",
        " print (\"Una de mis comidas favoritas es \"+ comida) # se agrega la frase y con el for la agrega una a una a cada comida en la lista"
      ],
      "execution_count": null,
      "outputs": [
        {
          "output_type": "stream",
          "name": "stdout",
          "text": [
            "¿Cuáles son tus siete comidas favoritas?\n",
            "Tenders, Pizza, Tostadas, Hamburguesas, Carne Asada, Campechanas, Tacos\n",
            "Una de mis comidas favoritas es Tenders\n",
            "Una de mis comidas favoritas es  Pizza\n",
            "Una de mis comidas favoritas es  Tostadas\n",
            "Una de mis comidas favoritas es  Hamburguesas\n",
            "Una de mis comidas favoritas es  Carne Asada\n",
            "Una de mis comidas favoritas es  Campechanas\n",
            "Una de mis comidas favoritas es  Tacos\n"
          ]
        }
      ]
    },
    {
      "cell_type": "markdown",
      "metadata": {
        "id": "2aL9IRLJQ4Lh"
      },
      "source": [
        "*Ejercicio 2*\n",
        "* Crear un juego de piedra, papel o tijera \n",
        "de dos jugadores. El programa preguntará por la opción del jugador 1 y la opción del jugador 2 y dará como resultado quien ganó el juego. \n"
      ]
    },
    {
      "cell_type": "code",
      "metadata": {
        "id": "JiHhr6huRDvt",
        "colab": {
          "base_uri": "https://localhost:8080/"
        },
        "outputId": "005a1c8c-9fcf-49c0-81c8-4d9b68027eb2"
      },
      "source": [
        "op = [\"piedra\",\"papel\",\"tijera\"] # unicas opciones que se podrá ingresar el usuario\n",
        "espacio = \"-\"*10 # espacio para marcar inicio y fin del juego de una mejor manera en la interfaz\n",
        "print (f\"{espacio}        JUEGO PIEDRA PAPEL O TIJERA        {espacio}\")\n",
        "\n",
        "usuario1= input(\"\\nUsuario 1 elija su opción: piedra, papel o tijera:\\n\").lower() #.lower cambia lo que escribe el usuario a minusculas para que no haya problema si usa mayusculas\n",
        "while usuario1 not in op:  # un while que permita reingresar la opcion del usuario si está mal escrita ej. piedras, paepl\n",
        "    print(\"\\n Opción invalida, vuelva a ingresar una opción\")\n",
        "    usuario1= input(\"\\nUsuario 1 elija su opción: piedra, papel o tijera:\\n\").lower()\n",
        "\n",
        "usuario2= input(\"\\nUsuario 2 elija su opción: piedra, papel o tijera:\\n\").lower()\n",
        "while usuario2 not in op:\n",
        "    print(\"\\n Opción invalida, vuelva a ingresar una opción\")\n",
        "    usuario2= input(\"\\nUsuario 2 elija su opción: piedra, papel o tijera:\\n\").lower()\n",
        "\n",
        "print(f\"\\nEl jugador 1 seleccionó {usuario1} y el jugador 2 {usuario2}\") # imprime las dos opciones que el jugador seleccionó\n",
        "if usuario1 == usuario2:\n",
        "  print(f\"\\n{espacio}Hubo un empate, ambos seleccionario {usuario1}{espacio}\")\n",
        "elif usuario1 == \"piedra\" and usuario2 == \"tijera\":\n",
        "  print(f\"\\n{espacio}Ganó el usuario 1, {usuario1} le gana a {usuario2}{espacio}\")\n",
        "elif usuario1 == \"tijera\" and usuario2 == \"papel\":\n",
        "  print(f\"\\n{espacio}Ganó el usuario 1, {usuario1} le gana a {usuario2}{espacio}\")\n",
        "elif usuario1 == \"papel\" and usuario2 == \"tijera\":\n",
        "  print(f\"\\n{espacio}Ganó el usuario 2, {usuario2} le gana a {usuario1}{espacio}\")\n",
        "elif usuario1 == \"tijera\" and usuario2 == \"piedra\":\n",
        "  print(f\"\\n{espacio}Ganó el usuario 2, {usuario2} le gana a {usuario1}{espacio}\")\n",
        "elif usuario1 == \"piedra\" and usuario2 == \"papel\":\n",
        "  print(f\"\\n{espacio}Ganó el usuario 2, {usuario2} le gana a {usuario1}{espacio}\")\n",
        "elif usuario1 == \"papel\" and usuario2 == \"piedra\":\n",
        "  print(f\"\\n{espacio}Ganó el usuario 1, {usuario1} le gana a {usuario2}{espacio}\")"
      ],
      "execution_count": null,
      "outputs": [
        {
          "output_type": "stream",
          "name": "stdout",
          "text": [
            "----------        JUEGO PIEDRA PAPEL O TIJERA        ----------\n",
            "\n",
            "Usuario 1 elija su opción: piedra, papel o tijera:\n",
            "papl\n",
            "\n",
            " Opción invalida, vuelva a ingresar una opción\n",
            "\n",
            "Usuario 1 elija su opción: piedra, papel o tijera:\n",
            "papel\n",
            "\n",
            "Usuario 2 elija su opción: piedra, papel o tijera:\n",
            "PIEDRA\n",
            "\n",
            "El jugador 1 seleccionó papel y el jugador 2 piedra\n",
            "\n",
            "----------Ganó el usuario 1, papel le gana a piedra----------\n"
          ]
        }
      ]
    },
    {
      "cell_type": "markdown",
      "metadata": {
        "id": "sQwqdn5tGQAB"
      },
      "source": [
        "*Ejercicio 3*\n",
        "*   Implementar un programa que imprima el siguiente patron:\n",
        "\n",
        "123456\n",
        "12345\n",
        "1234\n",
        "123\n",
        "12\n",
        "1\n",
        "12\n",
        "123\n",
        "1234\n",
        "12345\n",
        "123456\n",
        "\n",
        "\n",
        "\n"
      ]
    },
    {
      "cell_type": "code",
      "metadata": {
        "colab": {
          "base_uri": "https://localhost:8080/"
        },
        "id": "SSK0skKOGdbZ",
        "outputId": "c616a6c9-75e9-47a6-9e3a-929a51f722e4"
      },
      "source": [
        "num = [123456,12345,1234,123,12,1,12,123,12345,123456] #se guarda en una lista el patrón que queremos seguir\n",
        "for x in num:\n",
        "  print(x) #se imprime la lista\n"
      ],
      "execution_count": null,
      "outputs": [
        {
          "output_type": "stream",
          "name": "stdout",
          "text": [
            "123456\n",
            "12345\n",
            "1234\n",
            "123\n",
            "12\n",
            "1\n",
            "12\n",
            "123\n",
            "12345\n",
            "123456\n"
          ]
        }
      ]
    }
  ]
}